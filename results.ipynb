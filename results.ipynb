{
 "cells": [
  {
   "cell_type": "code",
   "execution_count": 1,
   "id": "15559ec2",
   "metadata": {},
   "outputs": [],
   "source": [
    "from paths import paths\n",
    "import torch\n",
    "import os\n",
    "import pickle\n",
    "import matplotlib.pyplot as plt"
   ]
  },
  {
   "cell_type": "code",
   "execution_count": null,
   "id": "df4f7d75",
   "metadata": {},
   "outputs": [],
   "source": [
    "captioner_checkpoint_path = os.path.join(\n",
    "    paths[\"captioner_checkpoint\"], \"checkpoint1.pt\"\n",
    ")\n",
    "checkpoint = torch.load(captioner_checkpoint_path, pickle_module=pickle)"
   ]
  },
  {
   "cell_type": "code",
   "execution_count": 3,
   "id": "c8cb36f2",
   "metadata": {},
   "outputs": [],
   "source": [
    "train_losses = checkpoint[\"train_losses\"]\n",
    "val_losses = checkpoint[\"val_losses\"]"
   ]
  },
  {
   "cell_type": "code",
   "execution_count": 4,
   "id": "5ee1dd55",
   "metadata": {},
   "outputs": [
    {
     "data": {
      "text/plain": [
       "[3.3177101748589233]"
      ]
     },
     "execution_count": 4,
     "metadata": {},
     "output_type": "execute_result"
    }
   ],
   "source": [
    "train_losses"
   ]
  },
  {
   "cell_type": "code",
   "execution_count": 5,
   "id": "b714f102",
   "metadata": {},
   "outputs": [
    {
     "data": {
      "text/plain": [
       "[2.7951927375418553]"
      ]
     },
     "execution_count": 5,
     "metadata": {},
     "output_type": "execute_result"
    }
   ],
   "source": [
    "val_losses"
   ]
  },
  {
   "cell_type": "code",
   "execution_count": 6,
   "id": "227bc9e0",
   "metadata": {},
   "outputs": [
    {
     "data": {
      "image/png": "[encoded data removed]",
      "text/plain": [
       "<Figure size 640x480 with 1 Axes>"
      ]
     },
     "metadata": {},
     "output_type": "display_data"
    }
   ],
   "source": [
    "fig, ax = plt.subplots()\n",
    "ax.plot(train_losses)\n",
    "ax.plot(val_losses)\n",
    "fig.show()"
   ]
  }
 ],
 "metadata": {
  "kernelspec": {
   "display_name": "torch_env",
   "language": "python",
   "name": "python3"
  },
  "language_info": {
   "codemirror_mode": {
    "name": "ipython",
    "version": 3
   },
   "file_extension": ".py",
   "mimetype": "text/x-python",
   "name": "python",
   "nbconvert_exporter": "python",
   "pygments_lexer": "ipython3",
   "version": "3.12.8"
  }
 },
 "nbformat": 4,
 "nbformat_minor": 5
}
