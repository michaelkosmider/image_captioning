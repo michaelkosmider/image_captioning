{
 "cells": [
  {
   "cell_type": "code",
   "execution_count": 1,
   "id": "15559ec2",
   "metadata": {},
   "outputs": [
    {
     "name": "stderr",
     "output_type": "stream",
     "text": [
      "/home/michael/miniconda3/envs/torch_env/lib/python3.12/site-packages/tqdm/auto.py:21: TqdmWarning: IProgress not found. Please update jupyter and ipywidgets. See https://ipywidgets.readthedocs.io/en/stable/user_install.html\n",
      "  from .autonotebook import tqdm as notebook_tqdm\n"
     ]
    }
   ],
   "source": [
    "from paths import paths\n",
    "import torch\n",
    "import os\n",
    "import pickle\n",
    "import matplotlib.pyplot as plt\n",
    "from tokenizers import Tokenizer\n",
    "import sys\n",
    "from transformer_components import (\n",
    "    TransformerEncoderDecoder,\n",
    "    get_causal_mask,\n",
    ")\n",
    "from image_captioner import ImageEncoder, CaptionDecoder\n",
    "import yaml\n",
    "from coco_loader import get_coco_loader, ImgFirstDataset, decode_predictions\n",
    "from image_transforms import image_transform_index\n",
    "from PIL import Image\n",
    "import matplotlib.pyplot as plt\n",
    "import evaluate\n",
    "from tqdm import tqdm"
   ]
  },
  {
   "cell_type": "code",
   "execution_count": 2,
   "id": "cecb1358",
   "metadata": {},
   "outputs": [],
   "source": [
    "checkpoint_path = os.path.join(paths[\"captioner_checkpoint\"], \"checkpoint1.pt\")\n",
    "\n",
    "if os.path.exists(checkpoint_path):\n",
    "    checkpoint = torch.load(checkpoint_path, pickle_module=pickle)\n",
    "else:\n",
    "    print(f\"The path {checkpoint_path} does not exist!\")\n",
    "    sys.exit(1)"
   ]
  },
  {
   "cell_type": "code",
   "execution_count": 3,
   "id": "090e0fa7",
   "metadata": {},
   "outputs": [
    {
     "name": "stdout",
     "output_type": "stream",
     "text": [
      "You are using cuda.\n"
     ]
    }
   ],
   "source": [
    "tokenizer = Tokenizer.from_file(paths[\"tokenizer\"])\n",
    "with open(paths[\"config\"], \"r\") as f:\n",
    "    config = yaml.safe_load(f)\n",
    "# Set device.\n",
    "if \"device\" in config:\n",
    "    device = config[\"device\"]\n",
    "else:\n",
    "    device = (\n",
    "        \"cuda\"\n",
    "        if torch.cuda.is_available()\n",
    "        else \"mps\" if torch.backends.mps.is_available() else \"cpu\"\n",
    "    )\n",
    "print(f\"You are using {device}.\")"
   ]
  },
  {
   "cell_type": "code",
   "execution_count": 4,
   "id": "43822673",
   "metadata": {},
   "outputs": [],
   "source": [
    "SOS_IDX = tokenizer.token_to_id(\"<SOS>\")\n",
    "EOS_IDX = tokenizer.token_to_id(\"<EOS>\")\n",
    "PAD_IDX = tokenizer.token_to_id(\"<PAD>\")\n",
    "\n",
    "BATCH_SIZE = config[\"batch_size\"]\n",
    "NUM_WORKERS = config[\"num_workers\"]\n",
    "\n",
    "VOCAB_SIZE = config[\"vocab_size\"]\n",
    "CONTEXT_SIZE = config[\"context_size\"]\n",
    "PATCH_SIZE = config[\"patch_size\"]\n",
    "IMAGE_SIZE = config[\"image_size\"]\n",
    "\n",
    "LENGTH_ALPHA = float(config[\"length_alpha\"])\n",
    "NUM_BEAMS = config[\"num_beams\"]\n",
    "\n",
    "image_encoder_config = config[\"image_encoder\"]\n",
    "caption_decoder_config = config[\"caption_decoder\"]"
   ]
  },
  {
   "cell_type": "code",
   "execution_count": 5,
   "id": "72f21686",
   "metadata": {},
   "outputs": [],
   "source": [
    "loader_for_metrics = get_coco_loader(\n",
    "    \"val\", BATCH_SIZE, image_transform_index[\"val\"], NUM_WORKERS, mode=\"image_first\"\n",
    ")"
   ]
  },
  {
   "cell_type": "code",
   "execution_count": 6,
   "id": "45a7918e",
   "metadata": {},
   "outputs": [],
   "source": [
    "# Initialize model.\n",
    "model = TransformerEncoderDecoder(\n",
    "    ImageEncoder(IMAGE_SIZE, PATCH_SIZE, image_encoder_config),\n",
    "    CaptionDecoder(VOCAB_SIZE, CONTEXT_SIZE, caption_decoder_config),\n",
    ").to(device)\n",
    "\n",
    "# model.load_state_dict(checkpoint[\"model_state_dict\"])"
   ]
  },
  {
   "cell_type": "code",
   "execution_count": 7,
   "id": "db074493",
   "metadata": {},
   "outputs": [],
   "source": [
    "bleu = evaluate.load(\"bleu\")"
   ]
  },
  {
   "cell_type": "code",
   "execution_count": null,
   "id": "85ae979e",
   "metadata": {},
   "outputs": [
    {
     "name": "stderr",
     "output_type": "stream",
     "text": [
      "Metrics for epoch 1::   0%|          | 0/40 [00:00<?, ?it/s]"
     ]
    },
    {
     "name": "stderr",
     "output_type": "stream",
     "text": [
      "Metrics for epoch 1:: 100%|██████████| 40/40 [01:55<00:00,  2.88s/it, bleu=0]\n"
     ]
    }
   ],
   "source": [
    "metric_batches = tqdm(\n",
    "    loader_for_metrics,\n",
    "    desc=f\"Metrics for epoch {checkpoint[\"history\"][\"epochs_completed\"]}:\",\n",
    "    leave=True,\n",
    ")\n",
    "model.eval()\n",
    "with torch.no_grad():\n",
    "    for img, references, _ in metric_batches:\n",
    "        img = img.to(device)\n",
    "        pred = model.generate(\n",
    "            img, None, NUM_BEAMS, CONTEXT_SIZE, LENGTH_ALPHA, SOS_IDX, PAD_IDX, EOS_IDX\n",
    "        )\n",
    "        decoded_preds = decode_predictions(pred, tokenizer)\n",
    "        decoded_refs = []\n",
    "        for ref in references:\n",
    "            decoded_ref = tokenizer.decode_batch(ref)\n",
    "            decoded_refs.append(decoded_ref)\n",
    "        result = bleu.compute(predictions=decoded_preds, references=decoded_refs)\n",
    "        metric_batches.set_postfix({\"bleu\": result[\"bleu\"]})"
   ]
  }
 ],
 "metadata": {
  "kernelspec": {
   "display_name": "torch_env",
   "language": "python",
   "name": "python3"
  },
  "language_info": {
   "codemirror_mode": {
    "name": "ipython",
    "version": 3
   },
   "file_extension": ".py",
   "mimetype": "text/x-python",
   "name": "python",
   "nbconvert_exporter": "python",
   "pygments_lexer": "ipython3",
   "version": "3.12.8"
  }
 },
 "nbformat": 4,
 "nbformat_minor": 5
}
