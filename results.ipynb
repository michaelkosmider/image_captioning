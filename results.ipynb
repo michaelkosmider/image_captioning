{
 "cells": [
  {
   "cell_type": "code",
   "execution_count": 1,
   "id": "15559ec2",
   "metadata": {},
   "outputs": [
    {
     "name": "stderr",
     "output_type": "stream",
     "text": [
      "/Users/michaelkosmider/miniconda3/envs/cap_env/lib/python3.10/site-packages/tqdm/auto.py:21: TqdmWarning: IProgress not found. Please update jupyter and ipywidgets. See https://ipywidgets.readthedocs.io/en/stable/user_install.html\n",
      "  from .autonotebook import tqdm as notebook_tqdm\n"
     ]
    }
   ],
   "source": [
    "from paths import paths\n",
    "import torch\n",
    "import os\n",
    "import pickle\n",
    "import matplotlib.pyplot as plt\n",
    "from tokenizers import Tokenizer\n",
    "import sys\n",
    "from transformer_components import (\n",
    "    TransformerEncoderDecoder,\n",
    "    get_causal_mask,\n",
    ")\n",
    "from image_captioner import ImageEncoder, CaptionDecoder\n",
    "import yaml\n",
    "from coco_loader import get_coco_loader, ImgFirstDataset, decode_predictions\n",
    "from image_transforms import encoder_image_transform_index\n",
    "from PIL import Image\n",
    "import matplotlib.pyplot as plt\n",
    "import evaluate\n",
    "from tqdm import tqdm\n",
    "from torch.optim import AdamW\n",
    "from torch.optim.lr_scheduler import CosineAnnealingLR, LinearLR, SequentialLR"
   ]
  },
  {
   "cell_type": "code",
   "execution_count": 2,
   "id": "cecb1358",
   "metadata": {},
   "outputs": [],
   "source": [
    "checkpoint_path = os.path.join(paths[\"encoder_checkpoint\"], \"checkpoint17.pt\")\n",
    "\n",
    "if os.path.exists(checkpoint_path):\n",
    "    checkpoint = torch.load(checkpoint_path, pickle_module=pickle)\n",
    "else:\n",
    "    print(f\"The path {checkpoint_path} does not exist!\")\n",
    "    sys.exit(1)"
   ]
  },
  {
   "cell_type": "code",
   "execution_count": null,
   "id": "102df071",
   "metadata": {},
   "outputs": [],
   "source": []
  },
  {
   "cell_type": "code",
   "execution_count": 6,
   "id": "6025ee81",
   "metadata": {},
   "outputs": [
    {
     "data": {
      "text/plain": [
       "[<matplotlib.lines.Line2D at 0x17eb02470>]"
      ]
     },
     "execution_count": 6,
     "metadata": {},
     "output_type": "execute_result"
    },
    {
     "data": {
      "image/png": "[encoded data removed]",
      "text/plain": [
       "<Figure size 640x480 with 1 Axes>"
      ]
     },
     "metadata": {},
     "output_type": "display_data"
    }
   ],
   "source": [
    "fig, ax = plt.subplots()\n",
    "ax.plot(checkpoint[\"history\"][\"train_losses\"])"
   ]
  },
  {
   "cell_type": "code",
   "execution_count": null,
   "id": "73305b2e",
   "metadata": {},
   "outputs": [],
   "source": []
  },
  {
   "cell_type": "code",
   "execution_count": 5,
   "id": "cac71ef4",
   "metadata": {},
   "outputs": [
    {
     "data": {
      "text/plain": [
       "[0.7577498853206635,\n",
       " 0.6315728028615316,\n",
       " 0.5853805564917051,\n",
       " 0.538636849476741,\n",
       " 0.48542811817083603,\n",
       " 0.4562294223369696,\n",
       " 0.4365123900083395,\n",
       " 0.4079918173643259,\n",
       " 0.39363474188706815,\n",
       " 0.3833173574545445,\n",
       " 0.37243468983051103,\n",
       " 0.3606574604144463,\n",
       " 0.35310315245237106,\n",
       " 0.3452399078852091,\n",
       " 0.339921215787912,\n",
       " 0.33554572822191775,\n",
       " 0.33414295468574917]"
      ]
     },
     "execution_count": 5,
     "metadata": {},
     "output_type": "execute_result"
    }
   ],
   "source": [
    "checkpoint[\"history\"][\"val_losses\"]"
   ]
  },
  {
   "cell_type": "code",
   "execution_count": 5,
   "id": "090e0fa7",
   "metadata": {},
   "outputs": [
    {
     "name": "stdout",
     "output_type": "stream",
     "text": [
      "You are using cuda.\n"
     ]
    }
   ],
   "source": [
    "tokenizer = Tokenizer.from_file(paths[\"tokenizer\"])\n",
    "with open(paths[\"config\"], \"r\") as f:\n",
    "    config = yaml.safe_load(f)\n",
    "# Set device.\n",
    "if \"device\" in config:\n",
    "    device = config[\"device\"]\n",
    "else:\n",
    "    device = (\n",
    "        \"cuda\"\n",
    "        if torch.cuda.is_available()\n",
    "        else \"mps\" if torch.backends.mps.is_available() else \"cpu\"\n",
    "    )\n",
    "print(f\"You are using {device}.\")"
   ]
  },
  {
   "cell_type": "code",
   "execution_count": 6,
   "id": "43822673",
   "metadata": {},
   "outputs": [],
   "source": [
    "SOS_IDX = tokenizer.token_to_id(\"<SOS>\")\n",
    "EOS_IDX = tokenizer.token_to_id(\"<EOS>\")\n",
    "PAD_IDX = tokenizer.token_to_id(\"<PAD>\")\n",
    "\n",
    "BATCH_SIZE = config[\"batch_size\"]\n",
    "NUM_WORKERS = config[\"num_workers\"]\n",
    "\n",
    "VOCAB_SIZE = config[\"vocab_size\"]\n",
    "CONTEXT_SIZE = config[\"context_size\"]\n",
    "PATCH_SIZE = config[\"patch_size\"]\n",
    "IMAGE_SIZE = config[\"image_size\"]\n",
    "EVAL_FREQ = config[\"eval_freq\"]\n",
    "TOTAL_EPOCHS = config[\"total_captioner_epochs\"]\n",
    "CUR_EPOCHS = config[\"cur_captioner_epochs\"]\n",
    "WARMUP_EPOCHS = int(config[\"captioner_warmup_epochs\"])\n",
    "\n",
    "START_FACTOR = float(config[\"captioner_start_factor\"])\n",
    "LEARNING_RATE = float(config[\"captioner_lr\"])\n",
    "ETA_MIN = float(config[\"captioner_eta_min\"])\n",
    "WEIGHT_DECAY = float(config[\"captioner_wd\"])\n",
    "LABEL_SMOOTHING = float(config[\"label_smoothing\"])\n",
    "LENGTH_ALPHA = float(config[\"length_alpha\"])\n",
    "NUM_BEAMS = config[\"num_beams\"]\n",
    "\n",
    "image_encoder_config = config[\"image_encoder\"]\n",
    "caption_decoder_config = config[\"caption_decoder\"]"
   ]
  },
  {
   "cell_type": "code",
   "execution_count": 7,
   "id": "3708066f",
   "metadata": {},
   "outputs": [
    {
     "data": {
      "text/plain": [
       "0.2"
      ]
     },
     "execution_count": 7,
     "metadata": {},
     "output_type": "execute_result"
    }
   ],
   "source": [
    "config[\"caption_decoder\"][\"dropout\"]"
   ]
  },
  {
   "cell_type": "code",
   "execution_count": 8,
   "id": "72f21686",
   "metadata": {},
   "outputs": [],
   "source": [
    "loader_for_metrics = get_coco_loader(\n",
    "    \"val\", BATCH_SIZE, image_transform_index[\"val\"], NUM_WORKERS, mode=\"image_first\"\n",
    ")"
   ]
  },
  {
   "cell_type": "code",
   "execution_count": 9,
   "id": "45a7918e",
   "metadata": {},
   "outputs": [
    {
     "data": {
      "text/plain": [
       "<All keys matched successfully>"
      ]
     },
     "execution_count": 9,
     "metadata": {},
     "output_type": "execute_result"
    }
   ],
   "source": [
    "# Initialize model.\n",
    "model = TransformerEncoderDecoder(\n",
    "    ImageEncoder(IMAGE_SIZE, PATCH_SIZE, image_encoder_config),\n",
    "    CaptionDecoder(VOCAB_SIZE, CONTEXT_SIZE, caption_decoder_config),\n",
    ").to(device)\n",
    "\n",
    "model.load_state_dict(checkpoint[\"model_state_dict\"])"
   ]
  },
  {
   "cell_type": "code",
   "execution_count": 10,
   "id": "db074493",
   "metadata": {},
   "outputs": [],
   "source": [
    "bleu = evaluate.load(\"bleu\")"
   ]
  },
  {
   "cell_type": "code",
   "execution_count": 11,
   "id": "85ae979e",
   "metadata": {},
   "outputs": [
    {
     "name": "stderr",
     "output_type": "stream",
     "text": [
      "Metrics for epoch 9:: 100%|██████████| 40/40 [00:49<00:00,  1.24s/it]\n"
     ]
    }
   ],
   "source": [
    "metric_batches = tqdm(\n",
    "    loader_for_metrics,\n",
    "    desc=f\"Metrics for epoch {checkpoint[\"history\"][\"epochs_completed\"]}:\",\n",
    "    leave=True,\n",
    ")\n",
    "model.eval()\n",
    "with torch.no_grad():\n",
    "    decoded_preds = []\n",
    "    decoded_refs = []\n",
    "    image_ids = []\n",
    "    for img, references, ids in metric_batches:\n",
    "        img = img.to(device)\n",
    "        pred = model.generate(\n",
    "            img, None, NUM_BEAMS, CONTEXT_SIZE, LENGTH_ALPHA, SOS_IDX, PAD_IDX, EOS_IDX\n",
    "        )\n",
    "        decoded_preds.extend(decode_predictions(pred, tokenizer))\n",
    "        decoded_refs.extend([tokenizer.decode_batch(ref) for ref in references])\n",
    "        image_ids.extend(ids)"
   ]
  },
  {
   "cell_type": "code",
   "execution_count": 12,
   "id": "c0463a1e",
   "metadata": {},
   "outputs": [],
   "source": [
    "# Remove any empty predictions. Record percentage.\n",
    "cleaned_preds = []\n",
    "cleaned_refs = []\n",
    "for pred, ref in zip(decoded_preds, decoded_refs):\n",
    "    if pred.strip():\n",
    "        cleaned_preds.append(pred)\n",
    "        cleaned_refs.append(ref)\n",
    "\n",
    "if len(cleaned_preds) == 0:\n",
    "    print(\"Unable to compute BLEU: no non-empty predictions.\")\n",
    "else:\n",
    "    bleu_score = bleu.compute(predictions=cleaned_preds, references=cleaned_refs)\n",
    "    percentage_used = 100 * len(cleaned_preds) / len(decoded_preds)"
   ]
  },
  {
   "cell_type": "code",
   "execution_count": 13,
   "id": "21118488",
   "metadata": {},
   "outputs": [
    {
     "data": {
      "text/plain": [
       "0.21440939203050188"
      ]
     },
     "execution_count": 13,
     "metadata": {},
     "output_type": "execute_result"
    }
   ],
   "source": [
    "bleu_score[\"bleu\"]"
   ]
  },
  {
   "cell_type": "code",
   "execution_count": 14,
   "id": "5a195c59",
   "metadata": {},
   "outputs": [],
   "source": [
    "def inspect(idx):\n",
    "\n",
    "    # Replace with your image path\n",
    "    image_path = os.path.join(paths[\"images\"][\"val\"], f\"{image_ids[idx]:012}.jpg\")\n",
    "\n",
    "    # Load image using PIL\n",
    "    img = Image.open(image_path)\n",
    "\n",
    "    plt.imshow(img)\n",
    "    plt.axis(\"off\")\n",
    "    plt.show()\n",
    "    print(f\"Prediction: {decoded_preds[idx]}\")\n",
    "    print(\"Truth:\")\n",
    "    for sentence in decoded_refs[idx]:\n",
    "        print(f\"\\t{sentence}\")"
   ]
  },
  {
   "cell_type": "code",
   "execution_count": 1,
   "id": "bec860c9",
   "metadata": {},
   "outputs": [
    {
     "ename": "NameError",
     "evalue": "name 'inspect' is not defined",
     "output_type": "error",
     "traceback": [
      "\u001b[0;31m---------------------------------------------------------------------------\u001b[0m",
      "\u001b[0;31mNameError\u001b[0m                                 Traceback (most recent call last)",
      "Cell \u001b[0;32mIn[1], line 1\u001b[0m\n\u001b[0;32m----> 1\u001b[0m \u001b[43minspect\u001b[49m(\u001b[38;5;241m67\u001b[39m)\n",
      "\u001b[0;31mNameError\u001b[0m: name 'inspect' is not defined"
     ]
    }
   ],
   "source": [
    "inspect(67)"
   ]
  },
  {
   "cell_type": "code",
   "execution_count": 16,
   "id": "404f0ed0",
   "metadata": {},
   "outputs": [],
   "source": [
    "results_path = paths[\"results\"]\n",
    "results = {\n",
    "    \"decoded_preds\": decoded_preds,\n",
    "    \"decoded_refs\": decoded_refs,\n",
    "    \"image_ids\": image_ids,\n",
    "}\n",
    "torch.save(results, results_path, pickle_module=pickle)"
   ]
  }
 ],
 "metadata": {
  "kernelspec": {
   "display_name": "cap_env",
   "language": "python",
   "name": "python3"
  },
  "language_info": {
   "codemirror_mode": {
    "name": "ipython",
    "version": 3
   },
   "file_extension": ".py",
   "mimetype": "text/x-python",
   "name": "python",
   "nbconvert_exporter": "python",
   "pygments_lexer": "ipython3",
   "version": "3.10.18"
  }
 },
 "nbformat": 4,
 "nbformat_minor": 5
}
