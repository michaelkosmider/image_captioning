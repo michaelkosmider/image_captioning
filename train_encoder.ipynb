{
 "cells": [
  {
   "cell_type": "code",
   "execution_count": 11,
   "id": "2b152ac9",
   "metadata": {},
   "outputs": [
    {
     "name": "stdout",
     "output_type": "stream",
     "text": [
      "The autoreload extension is already loaded. To reload it, use:\n",
      "  %reload_ext autoreload\n"
     ]
    }
   ],
   "source": [
    "%load_ext autoreload\n",
    "%autoreload 2"
   ]
  },
  {
   "cell_type": "code",
   "execution_count": 12,
   "id": "4e8dec3f",
   "metadata": {},
   "outputs": [],
   "source": [
    "from image_captioner import ImageEncoder, ImageDecoder\n",
    "from coco_loader import get_coco_loader\n",
    "from paths import paths\n",
    "import yaml\n",
    "import torch\n",
    "import torch.nn as nn\n",
    "from torch.optim import AdamW\n",
    "from image_transforms import image_transform_index\n",
    "from tqdm import tqdm"
   ]
  },
  {
   "cell_type": "code",
   "execution_count": 13,
   "id": "9749e60d",
   "metadata": {},
   "outputs": [],
   "source": [
    "with open(paths[\"config\"]) as f:\n",
    "    config = yaml.safe_load(f)\n",
    "\n",
    "IMAGE_SIZE = config[\"image_size\"]\n",
    "PATCH_SIZE = config[\"patch_size\"]\n",
    "MASKING_RATIO = config[\"masking_ratio\"]\n",
    "NUM_PATCHES = (IMAGE_SIZE // PATCH_SIZE) ** 2\n",
    "NUM_MASKED_PATCHES = int(NUM_PATCHES * MASKING_RATIO)\n",
    "NUM_WORKERS = config[\"num_workers\"]\n",
    "BATCH_SIZE = config[\"batch_size\"]\n",
    "image_encoder_config = config[\"image_encoder\"]\n",
    "image_decoder_config = config[\"image_decoder\"]"
   ]
  },
  {
   "cell_type": "code",
   "execution_count": 14,
   "id": "88d938b2",
   "metadata": {},
   "outputs": [
    {
     "name": "stdout",
     "output_type": "stream",
     "text": [
      "You are using cuda.\n"
     ]
    }
   ],
   "source": [
    "# Set device.\n",
    "if \"device\" in config:\n",
    "    device = config[\"device\"]\n",
    "else:\n",
    "    device = (\n",
    "        \"cuda\"\n",
    "        if torch.cuda.is_available()\n",
    "        else \"mps\" if torch.backends.mps.is_available() else \"cpu\"\n",
    "    )\n",
    "print(f\"You are using {device}.\")"
   ]
  },
  {
   "cell_type": "code",
   "execution_count": null,
   "id": "723de402",
   "metadata": {},
   "outputs": [
    {
     "name": "stderr",
     "output_type": "stream",
     "text": [
      "Training epoch 1::  18%|█▊        | 811/4624 [02:33<12:01,  5.29it/s, loss=0.681]\n"
     ]
    },
    {
     "ename": "KeyboardInterrupt",
     "evalue": "",
     "output_type": "error",
     "traceback": [
      "\u001b[0;31m---------------------------------------------------------------------------\u001b[0m",
      "\u001b[0;31mKeyboardInterrupt\u001b[0m                         Traceback (most recent call last)",
      "Cell \u001b[0;32mIn[15], line 17\u001b[0m\n\u001b[1;32m     14\u001b[0m \u001b[38;5;28;01mfor\u001b[39;00m image, _ \u001b[38;5;129;01min\u001b[39;00m pbar:\n\u001b[1;32m     15\u001b[0m     optimizer\u001b[38;5;241m.\u001b[39mzero_grad()\n\u001b[0;32m---> 17\u001b[0m     image \u001b[38;5;241m=\u001b[39m \u001b[43mimage\u001b[49m\u001b[38;5;241;43m.\u001b[39;49m\u001b[43mto\u001b[49m\u001b[43m(\u001b[49m\u001b[43mdevice\u001b[49m\u001b[43m)\u001b[49m\n\u001b[1;32m     18\u001b[0m     positions \u001b[38;5;241m=\u001b[39m torch\u001b[38;5;241m.\u001b[39mrandint(\n\u001b[1;32m     19\u001b[0m         \u001b[38;5;241m0\u001b[39m,\n\u001b[1;32m     20\u001b[0m         NUM_PATCHES,\n\u001b[0;32m   (...)\u001b[0m\n\u001b[1;32m     25\u001b[0m         device\u001b[38;5;241m=\u001b[39mimage\u001b[38;5;241m.\u001b[39mdevice,\n\u001b[1;32m     26\u001b[0m     )\n\u001b[1;32m     27\u001b[0m     masked_positions \u001b[38;5;241m=\u001b[39m positions[:, :NUM_MASKED_PATCHES]\n",
      "\u001b[0;31mKeyboardInterrupt\u001b[0m: "
     ]
    }
   ],
   "source": [
    "image_encoder = ImageEncoder(IMAGE_SIZE, PATCH_SIZE, image_encoder_config).to(device)\n",
    "image_encoder.train()\n",
    "image_decoder = ImageDecoder(PATCH_SIZE, NUM_PATCHES, image_decoder_config).to(device)\n",
    "image_decoder.train()\n",
    "criterion = nn.MSELoss()\n",
    "optimizer = AdamW(\n",
    "    list(image_encoder.parameters()) + list(image_decoder.parameters()),\n",
    "    lr=1e-4,\n",
    "    weight_decay=0.05,\n",
    ")\n",
    "\n",
    "train_batches = get_coco_loader(\n",
    "    \"train\", BATCH_SIZE, 100, image_transform_index[\"train\"], 0, NUM_WORKERS\n",
    ")\n",
    "pbar = tqdm(train_batches, desc=f\"Training epoch {1}:\", leave=True)\n",
    "patch_extracter = nn.Unfold(kernel_size=PATCH_SIZE, stride=PATCH_SIZE)\n",
    "\n",
    "for image, _ in pbar:\n",
    "    optimizer.zero_grad()\n",
    "\n",
    "    image = image.to(device)\n",
    "    positions = torch.randint(\n",
    "        0,\n",
    "        NUM_PATCHES,\n",
    "        (\n",
    "            image.shape[0],\n",
    "            NUM_PATCHES,\n",
    "        ),\n",
    "        device=image.device,\n",
    "    )\n",
    "    masked_positions = positions[:, :NUM_MASKED_PATCHES]\n",
    "    unmasked_positions = positions[:, NUM_MASKED_PATCHES:]\n",
    "\n",
    "    image_patches = patch_extracter(image).transpose(-1, -2)\n",
    "    ground_inds = masked_positions.unsqueeze(-1).expand(-1, -1, image_patches.shape[-1])\n",
    "    ground_masked_patches = torch.gather(image_patches, dim=1, index=ground_inds)\n",
    "\n",
    "    encoded_unmasked_patches = image_encoder(image, positions=unmasked_positions)\n",
    "    reconstructed_image_patches = image_decoder(\n",
    "        encoded_unmasked_patches, positions=unmasked_positions\n",
    "    )\n",
    "    pred_masked_patches = torch.gather(\n",
    "        reconstructed_image_patches, dim=1, index=ground_inds\n",
    "    )\n",
    "    loss = criterion(pred_masked_patches, ground_masked_patches)\n",
    "    loss.backward()\n",
    "    optimizer.step()\n",
    "    pbar.set_postfix({\"loss\": loss.item()})"
   ]
  }
 ],
 "metadata": {
  "kernelspec": {
   "display_name": "torch_env",
   "language": "python",
   "name": "python3"
  },
  "language_info": {
   "codemirror_mode": {
    "name": "ipython",
    "version": 3
   },
   "file_extension": ".py",
   "mimetype": "text/x-python",
   "name": "python",
   "nbconvert_exporter": "python",
   "pygments_lexer": "ipython3",
   "version": "3.12.8"
  }
 },
 "nbformat": 4,
 "nbformat_minor": 5
}
