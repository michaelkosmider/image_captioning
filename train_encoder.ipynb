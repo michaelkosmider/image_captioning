{
 "cells": [
  {
   "cell_type": "code",
   "execution_count": 1,
   "id": "2b152ac9",
   "metadata": {},
   "outputs": [],
   "source": [
    "%load_ext autoreload\n",
    "%autoreload 2"
   ]
  },
  {
   "cell_type": "code",
   "execution_count": 2,
   "id": "4e8dec3f",
   "metadata": {},
   "outputs": [],
   "source": [
    "from image_captioner import ImageEncoder\n",
    "from coco_loader import get_coco_loader\n",
    "from paths import paths\n",
    "import yaml\n",
    "import torch\n",
    "from image_transforms import image_transform_index"
   ]
  },
  {
   "cell_type": "code",
   "execution_count": 3,
   "id": "9749e60d",
   "metadata": {},
   "outputs": [],
   "source": [
    "with open(paths[\"config\"]) as f:\n",
    "    config = yaml.safe_load(f)\n",
    "\n",
    "IMAGE_SIZE = config[\"image_size\"]\n",
    "PATCH_SIZE = config[\"patch_size\"]\n",
    "NUM_WORKERS = config[\"num_workers\"]\n",
    "BATCH_SIZE = config[\"batch_size\"]\n",
    "transformer_encoder_config = config[\"transformer_encoder\"]"
   ]
  },
  {
   "cell_type": "code",
   "execution_count": 4,
   "id": "88d938b2",
   "metadata": {},
   "outputs": [
    {
     "name": "stdout",
     "output_type": "stream",
     "text": [
      "You are using cuda.\n"
     ]
    }
   ],
   "source": [
    "# Set device.\n",
    "if \"device\" in config:\n",
    "    device = config[\"device\"]\n",
    "else:\n",
    "    device = (\n",
    "        \"cuda\"\n",
    "        if torch.cuda.is_available()\n",
    "        else \"mps\" if torch.backends.mps.is_available() else \"cpu\"\n",
    "    )\n",
    "print(f\"You are using {device}.\")"
   ]
  },
  {
   "cell_type": "code",
   "execution_count": null,
   "id": "298aff8c",
   "metadata": {},
   "outputs": [],
   "source": [
    "model = ImageEncoder(IMAGE_SIZE, PATCH_SIZE, transformer_encoder_config).to(device)\n",
    "train_batches = iter(\n",
    "    get_coco_loader(\n",
    "        \"train\", BATCH_SIZE, 100, image_transform_index[\"train\"], 0, NUM_WORKERS\n",
    "    )\n",
    ")"
   ]
  },
  {
   "cell_type": "code",
   "execution_count": null,
   "id": "723de402",
   "metadata": {},
   "outputs": [],
   "source": [
    "image, caption = next(train_batches)\n",
    "image = image.to(device)\n",
    "positions = torch.randint(0, 196, (49,), device=image.device)"
   ]
  },
  {
   "cell_type": "code",
   "execution_count": 7,
   "id": "8f5c0798",
   "metadata": {},
   "outputs": [
    {
     "data": {
      "text/plain": [
       "tensor([121,   0, 158, 102, 126, 177, 176, 144, 135, 185, 137, 121, 185,  64,\n",
       "        153,   6, 167,  85,  55, 170,  60,  55, 103,  73, 193, 182, 152,  55,\n",
       "         87,  17, 178,  64,  91,  66,  20, 103, 185,  21, 143,  75, 185,  70,\n",
       "         54,  30,  26,  96,  95,  94, 169], device='cuda:0')"
      ]
     },
     "execution_count": 7,
     "metadata": {},
     "output_type": "execute_result"
    }
   ],
   "source": [
    "positions"
   ]
  },
  {
   "cell_type": "code",
   "execution_count": 8,
   "id": "0dbcb42a",
   "metadata": {},
   "outputs": [
    {
     "data": {
      "text/plain": [
       "torch.float32"
      ]
     },
     "execution_count": 8,
     "metadata": {},
     "output_type": "execute_result"
    }
   ],
   "source": [
    "image.dtype"
   ]
  },
  {
   "cell_type": "code",
   "execution_count": 9,
   "id": "d8a5e3c1",
   "metadata": {},
   "outputs": [],
   "source": [
    "random_patches = model(image, positions=positions)"
   ]
  },
  {
   "cell_type": "code",
   "execution_count": 10,
   "id": "57e54766",
   "metadata": {},
   "outputs": [
    {
     "data": {
      "text/plain": [
       "torch.Size([128, 49, 512])"
      ]
     },
     "execution_count": 10,
     "metadata": {},
     "output_type": "execute_result"
    }
   ],
   "source": [
    "random_patches.shape"
   ]
  }
 ],
 "metadata": {
  "kernelspec": {
   "display_name": "torch_env",
   "language": "python",
   "name": "python3"
  },
  "language_info": {
   "codemirror_mode": {
    "name": "ipython",
    "version": 3
   },
   "file_extension": ".py",
   "mimetype": "text/x-python",
   "name": "python",
   "nbconvert_exporter": "python",
   "pygments_lexer": "ipython3",
   "version": "3.12.8"
  }
 },
 "nbformat": 4,
 "nbformat_minor": 5
}
